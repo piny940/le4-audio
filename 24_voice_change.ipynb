{
 "cells": [
  {
   "cell_type": "code",
   "execution_count": 1,
   "metadata": {},
   "outputs": [],
   "source": [
    "import sys\n",
    "import math\n",
    "import numpy as np\n",
    "import scipy.io.wavfile\n",
    "import librosa"
   ]
  },
  {
   "cell_type": "code",
   "execution_count": 7,
   "metadata": {},
   "outputs": [],
   "source": [
    "def generate_sinusoid(sampling_rate, frequency, duration):\n",
    "  sampling_interval = 1.0 / sampling_rate\n",
    "  t = np.arange(sampling_rate * duration) * sampling_interval\n",
    "  waveform = np.sin(2.0 * math.pi * frequency * t)\n",
    "  return waveform\n",
    "\n",
    "def voice_change(waveform, sampling_rate, frequency):\n",
    "  duration = len(waveform)\n",
    "  sin_wave = generate_sinusoid(sampling_rate, frequency, duration / sampling_rate)\n",
    "  sin_wave = sin_wave * 0.9\n",
    "  return waveform * sin_wave\n",
    "\n",
    "def export_wav(filename, sampling_rate, waveform):\n",
    "  waveform = np.int16(waveform * 32767.0)\n",
    "  scipy.io.wavfile.write(filename, sampling_rate, waveform)\n",
    "\n",
    "SR = 16000\n",
    "x, _ = librosa.load('audio/aiueo-long.wav', sr=SR)\n",
    "FREQ = 440\n",
    "x_changed = voice_change(x, SR, FREQ)\n",
    "\n",
    "export_wav(f'audio/voice_change/aiueo-long-{FREQ}.wav', SR, x_changed)"
   ]
  },
  {
   "cell_type": "code",
   "execution_count": null,
   "metadata": {},
   "outputs": [],
   "source": []
  }
 ],
 "metadata": {
  "kernelspec": {
   "display_name": "exp4-audio",
   "language": "python",
   "name": "python3"
  },
  "language_info": {
   "codemirror_mode": {
    "name": "ipython",
    "version": 3
   },
   "file_extension": ".py",
   "mimetype": "text/x-python",
   "name": "python",
   "nbconvert_exporter": "python",
   "pygments_lexer": "ipython3",
   "version": "3.8.18"
  }
 },
 "nbformat": 4,
 "nbformat_minor": 2
}
