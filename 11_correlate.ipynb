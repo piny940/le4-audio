{
 "cells": [
  {
   "cell_type": "code",
   "execution_count": 4,
   "metadata": {},
   "outputs": [],
   "source": [
    "import matplotlib.pyplot as plt\n",
    "import numpy as np\n",
    "import librosa"
   ]
  },
  {
   "cell_type": "code",
   "execution_count": 5,
   "metadata": {},
   "outputs": [],
   "source": [
    "def is_peak(arr, index):\n",
    "  if index == 0 or index == len(arr) - 1:\n",
    "    return False\n",
    "  return arr[index - 1] < arr[index] and arr[index] > arr[index + 1]\n"
   ]
  },
  {
   "cell_type": "code",
   "execution_count": 16,
   "metadata": {},
   "outputs": [],
   "source": [
    "def get_f0(x, sampling_rate):\n",
    "  autocorr = np.correlate(x, x, 'full')\n",
    "  autocorr = autocorr[len(autocorr) // 2:]  # 不要な前半を捨てる\n",
    "\n",
    "  # ピークを検出\n",
    "  peak_indices = [i for i in range(len(autocorr)) if is_peak(autocorr, i)]\n",
    "  peak_indices = [i for i in peak_indices if i != 0]  # 最初のピークは除く\n",
    "\n",
    "  max_peak_index = max(peak_indices, key=lambda index: autocorr[index])\n",
    "\n",
    "  # 基本周波数を推定\n",
    "  f0 = sampling_rate / max_peak_index\n",
    "  return f0"
   ]
  },
  {
   "cell_type": "code",
   "execution_count": 17,
   "metadata": {},
   "outputs": [
    {
     "name": "stdout",
     "output_type": "stream",
     "text": [
      "あ: 141.5929203539823 Hz\n",
      "い: 150.9433962264151 Hz\n",
      "う: 150.9433962264151 Hz\n",
      "え: 125.98425196850394 Hz\n",
      "お: 148.14814814814815 Hz\n"
     ]
    }
   ],
   "source": [
    "SR = 16000\n",
    "\n",
    "x, _ = librosa.load('audio/aiueo-long.wav', sr=SR)\n",
    "a = x[8000:16000]\n",
    "i = x[26000:40000]\n",
    "u = x[55000:65000]\n",
    "e = x[80000:85000]\n",
    "o = x[98000:105000]\n",
    "\n",
    "print(f'あ: {get_f0(a, SR)} Hz')\n",
    "print(f'い: {get_f0(i, SR)} Hz')\n",
    "print(f'う: {get_f0(u, SR)} Hz')\n",
    "print(f'え: {get_f0(e, SR)} Hz')\n",
    "print(f'お: {get_f0(o, SR)} Hz')\n"
   ]
  },
  {
   "cell_type": "code",
   "execution_count": null,
   "metadata": {},
   "outputs": [],
   "source": []
  }
 ],
 "metadata": {
  "kernelspec": {
   "display_name": "exp4-audio",
   "language": "python",
   "name": "python3"
  },
  "language_info": {
   "codemirror_mode": {
    "name": "ipython",
    "version": 3
   },
   "file_extension": ".py",
   "mimetype": "text/x-python",
   "name": "python",
   "nbconvert_exporter": "python",
   "pygments_lexer": "ipython3",
   "version": "3.8.18"
  }
 },
 "nbformat": 4,
 "nbformat_minor": 2
}
