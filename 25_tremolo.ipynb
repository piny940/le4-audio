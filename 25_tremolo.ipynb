{
 "cells": [
  {
   "cell_type": "code",
   "execution_count": 2,
   "metadata": {},
   "outputs": [],
   "source": [
    "import math\n",
    "import numpy as np\n",
    "import scipy.io.wavfile\n",
    "import librosa\n",
    "import matplotlib.pyplot as plt"
   ]
  },
  {
   "cell_type": "code",
   "execution_count": 9,
   "metadata": {},
   "outputs": [],
   "source": [
    "def generate_sinusoid(sampling_rate, frequency, duration):\n",
    "  sampling_interval = 1.0 / sampling_rate\n",
    "  t = np.arange(sampling_rate * duration) * sampling_interval\n",
    "  waveform = np.sin(2.0 * math.pi * frequency * t)\n",
    "  return waveform\n",
    "\n",
    "def tremolo(waveform, sampling_rate, frequency, depth):\n",
    "  tremolo_waveform = generate_sinusoid(sampling_rate, frequency, len(waveform) / sampling_rate)\n",
    "  changed = waveform * (1.0 + depth * tremolo_waveform)\n",
    "  return changed / np.max(np.abs(changed))\n",
    "\n",
    "def export_wav(filename, sampling_rate, waveform):\n",
    "  waveform = np.int16(waveform * 32767.0)\n",
    "  scipy.io.wavfile.write(filename, sampling_rate, waveform)\n",
    "\n",
    "SR = 16000\n",
    "x, _ = librosa.load('audio/aiueo-long.wav', sr=SR)\n",
    "FREQ = 440\n",
    "SIZE_FRAME = 2048\n",
    "SHIFT_SIZE = 16000 / 100  # 10 msec\n",
    "DEPTH = 0.5\n",
    "x_changed = tremolo(x, SR, FREQ, DEPTH)\n",
    "export_wav(f'audio/tremolo/aiueo-long-{FREQ}-{int(DEPTH * 10)}.wav', SR, x_changed)"
   ]
  },
  {
   "cell_type": "code",
   "execution_count": null,
   "metadata": {},
   "outputs": [],
   "source": []
  }
 ],
 "metadata": {
  "kernelspec": {
   "display_name": "exp4-audio",
   "language": "python",
   "name": "python3"
  },
  "language_info": {
   "codemirror_mode": {
    "name": "ipython",
    "version": 3
   },
   "file_extension": ".py",
   "mimetype": "text/x-python",
   "name": "python",
   "nbconvert_exporter": "python",
   "pygments_lexer": "ipython3",
   "version": "3.8.18"
  }
 },
 "nbformat": 4,
 "nbformat_minor": 2
}
